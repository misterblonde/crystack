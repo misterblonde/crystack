{
 "cells": [
  {
   "cell_type": "code",
   "execution_count": 1,
   "metadata": {},
   "outputs": [],
   "source": [
    "from crystal_interactions.interactions import Interactions"
   ]
  },
  {
   "cell_type": "code",
   "execution_count": 2,
   "metadata": {},
   "outputs": [],
   "source": [
    "filepath = \"real_dimer_1_12\"\n",
    "\n"
   ]
  },
  {
   "cell_type": "code",
   "execution_count": 3,
   "metadata": {},
   "outputs": [
    {
     "data": {
      "text/plain": [
       "['1', '12']"
      ]
     },
     "execution_count": 3,
     "metadata": {},
     "output_type": "execute_result"
    }
   ],
   "source": [
    "dimer = Interactions(f\"{filepath}\")\n",
    "dimer.basen\n",
    "dimer.interacting_mols"
   ]
  },
  {
   "cell_type": "code",
   "execution_count": 4,
   "metadata": {},
   "outputs": [
    {
     "name": "stdout",
     "output_type": "stream",
     "text": [
      "n_atoms(dimer):  84\n"
     ]
    },
    {
     "data": {
      "text/plain": [
       "(<openbabel.openbabel.OBMol; proxy of <Swig Object of type 'OpenBabel::OBMol *' at 0x7f908da0fe10> >,\n",
       " <openbabel.pybel.Molecule at 0x7f908da0faf0>,\n",
       " <openbabel.pybel.Molecule at 0x7f908c378a00>,\n",
       " <openbabel.pybel.Molecule at 0x7f908c378a90>)"
      ]
     },
     "execution_count": 4,
     "metadata": {},
     "output_type": "execute_result"
    }
   ],
   "source": [
    "dimer.make_mol_obj()"
   ]
  },
  {
   "cell_type": "code",
   "execution_count": 5,
   "metadata": {},
   "outputs": [
    {
     "name": "stdout",
     "output_type": "stream",
     "text": [
      "Relevant stack:  5.300498768459855 Type of Int:  P Offset:  3.277353207165837\n"
     ]
    },
    {
     "data": {
      "text/plain": [
       "[pistack(ringA=aromatic_ring(atoms=[<openbabel.pybel.Atom object at 0x7f908da30d30>, <openbabel.pybel.Atom object at 0x7f908da30fd0>, <openbabel.pybel.Atom object at 0x7f908da304f0>, <openbabel.pybel.Atom object at 0x7f908da3a1c0>, <openbabel.pybel.Atom object at 0x7f908da3a2b0>, <openbabel.pybel.Atom object at 0x7f908da3a670>], normal=array([-0.59808408,  0.48579026,  0.63741922]), obj=<openbabel.openbabel.OBRing; proxy of <Swig Object of type 'OpenBabel::OBRing *' at 0x7f908da340c0> >, center=[36.40483333333333, 21.53383333333333, 12.606166666666667], type='benzene'), ringB=aromatic_ring(atoms=[<openbabel.pybel.Atom object at 0x7f908da37070>, <openbabel.pybel.Atom object at 0x7f908da37520>, <openbabel.pybel.Atom object at 0x7f908da37610>, <openbabel.pybel.Atom object at 0x7f908da37ca0>, <openbabel.pybel.Atom object at 0x7f908da37d90>, <openbabel.pybel.Atom object at 0x7f908da41220>], normal=array([-0.40768457,  0.78284206,  0.47005489]), obj=<openbabel.openbabel.OBRing; proxy of <Swig Object of type 'OpenBabel::OBRing *' at 0x7f908da34330> >, center=[37.21333333333333, 20.75, 7.426666666666667], type='benzene'), distance=5.300498768459855, angle=22.51957790045366, offset=3.277353207165837, type='P', position_ringA='bridged', position_ringB='bridged')]"
      ]
     },
     "execution_count": 5,
     "metadata": {},
     "output_type": "execute_result"
    }
   ],
   "source": [
    "dimer.calculate_pi_stacks()"
   ]
  },
  {
   "cell_type": "code",
   "execution_count": 6,
   "metadata": {},
   "outputs": [
    {
     "name": "stdout",
     "output_type": "stream",
     "text": [
      "12 C <-> 4 C                 d:3.790119918947158 Lower by:-0.11                 vdWthresholdIncrease:0.5\n",
      "12 C <-> 7 H                 d:3.1171058692319074 Lower by:-0.173                 vdWthresholdIncrease:0.5\n",
      "13 C <-> 24 C                 d:3.838065788909827 Lower by:-0.062                 vdWthresholdIncrease:0.5\n",
      "13 C <-> 29 C                 d:3.613849609488478 Lower by:-0.286                 vdWthresholdIncrease:0.5\n",
      "13 C <-> 33 H                 d:3.189005644397638 Lower by:-0.101                 vdWthresholdIncrease:0.5\n",
      "15 H <-> 1 C                 d:3.1395058528373543 Lower by:-0.15                 vdWthresholdIncrease:0.5\n",
      "15 H <-> 2 H                 d:2.5397167164863093 Lower by:-0.14                 vdWthresholdIncrease:0.5\n",
      "15 H <-> 4 C                 d:3.2286385675699303 Lower by:-0.061                 vdWthresholdIncrease:0.5\n",
      "16 C <-> 7 H                 d:3.180106287531913 Lower by:-0.11                 vdWthresholdIncrease:0.5\n",
      "16 C <-> 24 C                 d:3.6509360443590353 Lower by:-0.249                 vdWthresholdIncrease:0.5\n",
      "16 C <-> 29 C                 d:3.724267176237495 Lower by:-0.176                 vdWthresholdIncrease:0.5\n",
      "17 C <-> 24 C                 d:3.8194599094636423 Lower by:-0.081                 vdWthresholdIncrease:0.5\n",
      "17 C <-> 28 C                 d:3.4630808538063325 Lower by:-0.437                 vdWthresholdIncrease:0.5\n",
      "17 C <-> 29 C                 d:3.8180416446131167 Lower by:-0.082                 vdWthresholdIncrease:0.5\n",
      "17 C <-> 32 H                 d:2.9781024159689333 Lower by:-0.312                 vdWthresholdIncrease:0.5\n",
      "17 C <-> 33 H                 d:3.171213332464404 Lower by:-0.119                 vdWthresholdIncrease:0.5\n",
      "20 H <-> 7 H                 d:2.6172760649194053 Lower by:-0.063                 vdWthresholdIncrease:0.5\n",
      "20 H <-> 24 C                 d:3.2123633044847235 Lower by:-0.078                 vdWthresholdIncrease:0.5\n",
      "21 H <-> 28 C                 d:2.8129338776444794 Lower by:-0.477                 vdWthresholdIncrease:0.5\n",
      "21 H <-> 32 H                 d:2.515245912430832 Lower by:-0.165                 vdWthresholdIncrease:0.5\n",
      "30 C <-> 38 H                 d:3.215193617809042 Lower by:-0.075                 vdWthresholdIncrease:0.5\n",
      "35 H <-> 34 C                 d:3.239658932665598 Lower by:-0.05                 vdWthresholdIncrease:0.5\n",
      "35 H <-> 38 H                 d:2.671046424156644 Lower by:-0.009                 vdWthresholdIncrease:0.5\n"
     ]
    },
    {
     "data": {
      "text/plain": [
       "[vdw(atomA=<openbabel.pybel.Atom object at 0x7f908da3ae20>, idxA=12, typeA='C', atomB=<openbabel.pybel.Atom object at 0x7f908da37a30>, idxB=4, typeB='C', distance=3.790119918947158),\n",
       " vdw(atomA=<openbabel.pybel.Atom object at 0x7f908da3ae20>, idxA=12, typeA='C', atomB=<openbabel.pybel.Atom object at 0x7f908da3f280>, idxB=7, typeB='H', distance=3.1171058692319074),\n",
       " vdw(atomA=<openbabel.pybel.Atom object at 0x7f908da3ad00>, idxA=13, typeA='C', atomB=<openbabel.pybel.Atom object at 0x7f908da418e0>, idxB=24, typeB='C', distance=3.838065788909827),\n",
       " vdw(atomA=<openbabel.pybel.Atom object at 0x7f908da3ad00>, idxA=13, typeA='C', atomB=<openbabel.pybel.Atom object at 0x7f908da41070>, idxB=29, typeB='C', distance=3.613849609488478),\n",
       " vdw(atomA=<openbabel.pybel.Atom object at 0x7f908da3ad00>, idxA=13, typeA='C', atomB=<openbabel.pybel.Atom object at 0x7f908da415b0>, idxB=33, typeB='H', distance=3.189005644397638),\n",
       " vdw(atomA=<openbabel.pybel.Atom object at 0x7f908da3a9d0>, idxA=15, typeA='H', atomB=<openbabel.pybel.Atom object at 0x7f908da373a0>, idxB=1, typeB='C', distance=3.1395058528373543),\n",
       " vdw(atomA=<openbabel.pybel.Atom object at 0x7f908da3a9d0>, idxA=15, typeA='H', atomB=<openbabel.pybel.Atom object at 0x7f908da37490>, idxB=2, typeB='H', distance=2.5397167164863093),\n",
       " vdw(atomA=<openbabel.pybel.Atom object at 0x7f908da3a9d0>, idxA=15, typeA='H', atomB=<openbabel.pybel.Atom object at 0x7f908da37a30>, idxB=4, typeB='C', distance=3.2286385675699303),\n",
       " vdw(atomA=<openbabel.pybel.Atom object at 0x7f908da3a970>, idxA=16, typeA='C', atomB=<openbabel.pybel.Atom object at 0x7f908da3f280>, idxB=7, typeB='H', distance=3.180106287531913),\n",
       " vdw(atomA=<openbabel.pybel.Atom object at 0x7f908da3a970>, idxA=16, typeA='C', atomB=<openbabel.pybel.Atom object at 0x7f908da418e0>, idxB=24, typeB='C', distance=3.6509360443590353),\n",
       " vdw(atomA=<openbabel.pybel.Atom object at 0x7f908da3a970>, idxA=16, typeA='C', atomB=<openbabel.pybel.Atom object at 0x7f908da41070>, idxB=29, typeB='C', distance=3.724267176237495),\n",
       " vdw(atomA=<openbabel.pybel.Atom object at 0x7f908da3a640>, idxA=17, typeA='C', atomB=<openbabel.pybel.Atom object at 0x7f908da418e0>, idxB=24, typeB='C', distance=3.8194599094636423),\n",
       " vdw(atomA=<openbabel.pybel.Atom object at 0x7f908da3a640>, idxA=17, typeA='C', atomB=<openbabel.pybel.Atom object at 0x7f908da41970>, idxB=28, typeB='C', distance=3.4630808538063325),\n",
       " vdw(atomA=<openbabel.pybel.Atom object at 0x7f908da3a640>, idxA=17, typeA='C', atomB=<openbabel.pybel.Atom object at 0x7f908da41070>, idxB=29, typeB='C', distance=3.8180416446131167),\n",
       " vdw(atomA=<openbabel.pybel.Atom object at 0x7f908da3a640>, idxA=17, typeA='C', atomB=<openbabel.pybel.Atom object at 0x7f908da414c0>, idxB=32, typeB='H', distance=2.9781024159689333),\n",
       " vdw(atomA=<openbabel.pybel.Atom object at 0x7f908da3a640>, idxA=17, typeA='C', atomB=<openbabel.pybel.Atom object at 0x7f908da415b0>, idxB=33, typeB='H', distance=3.171213332464404),\n",
       " vdw(atomA=<openbabel.pybel.Atom object at 0x7f908da35340>, idxA=20, typeA='H', atomB=<openbabel.pybel.Atom object at 0x7f908da3f280>, idxB=7, typeB='H', distance=2.6172760649194053),\n",
       " vdw(atomA=<openbabel.pybel.Atom object at 0x7f908da35340>, idxA=20, typeA='H', atomB=<openbabel.pybel.Atom object at 0x7f908da418e0>, idxB=24, typeB='C', distance=3.2123633044847235),\n",
       " vdw(atomA=<openbabel.pybel.Atom object at 0x7f908da35700>, idxA=21, typeA='H', atomB=<openbabel.pybel.Atom object at 0x7f908da41970>, idxB=28, typeB='C', distance=2.8129338776444794),\n",
       " vdw(atomA=<openbabel.pybel.Atom object at 0x7f908da35700>, idxA=21, typeA='H', atomB=<openbabel.pybel.Atom object at 0x7f908da414c0>, idxB=32, typeB='H', distance=2.515245912430832),\n",
       " vdw(atomA=<openbabel.pybel.Atom object at 0x7f908da358b0>, idxA=30, typeA='C', atomB=<openbabel.pybel.Atom object at 0x7f908da34220>, idxB=38, typeB='H', distance=3.215193617809042),\n",
       " vdw(atomA=<openbabel.pybel.Atom object at 0x7f908da37190>, idxA=35, typeA='H', atomB=<openbabel.pybel.Atom object at 0x7f908da416a0>, idxB=34, typeB='C', distance=3.239658932665598),\n",
       " vdw(atomA=<openbabel.pybel.Atom object at 0x7f908da37190>, idxA=35, typeA='H', atomB=<openbabel.pybel.Atom object at 0x7f908da34220>, idxB=38, typeB='H', distance=2.671046424156644)]"
      ]
     },
     "execution_count": 6,
     "metadata": {},
     "output_type": "execute_result"
    }
   ],
   "source": [
    "dimer.calculate_short_contacts(vdwextra=0.5)"
   ]
  },
  {
   "cell_type": "code",
   "execution_count": 7,
   "metadata": {},
   "outputs": [
    {
     "name": "stdout",
     "output_type": "stream",
     "text": [
      "Hydro. int: 12 Car-1 Car 3.9243286049972945\n",
      "Hydro. int: 12 Car-4 Car 3.790119918947158\n",
      "Hydro. int: 13 Car-24 Car 3.838065788909827\n",
      "Hydro. int: 13 Car-28 Car 3.9934473829011443\n",
      "Hydro. int: 13 Car-29 Car 3.613849609488478\n",
      "Hydro. int: 16 Car-24 Car 3.6509360443590353\n",
      "Hydro. int: 16 Car-29 Car 3.724267176237495\n",
      "Hydro. int: 17 Car-24 Car 3.8194599094636423\n",
      "Hydro. int: 17 Car-28 Car 3.4630808538063325\n",
      "Hydro. int: 17 Car-29 Car 3.8180416446131167\n",
      "Hydro. int: 30 Car-34 Car 3.9495580765447666\n"
     ]
    },
    {
     "data": {
      "text/plain": [
       "[hydroph_interaction(atomA=<openbabel.pybel.Atom object at 0x7f908da3fd90>, idxA=12, typeA='Car', atomB=<openbabel.pybel.Atom object at 0x7f908da353a0>, idxB=1, typeB='Car', distance=3.9243286049972945),\n",
       " hydroph_interaction(atomA=<openbabel.pybel.Atom object at 0x7f908da3fd90>, idxA=12, typeA='Car', atomB=<openbabel.pybel.Atom object at 0x7f908da35e80>, idxB=4, typeB='Car', distance=3.790119918947158),\n",
       " hydroph_interaction(atomA=<openbabel.pybel.Atom object at 0x7f908da3f850>, idxA=13, typeA='Car', atomB=<openbabel.pybel.Atom object at 0x7f908da342e0>, idxB=24, typeB='Car', distance=3.838065788909827),\n",
       " hydroph_interaction(atomA=<openbabel.pybel.Atom object at 0x7f908da3f850>, idxA=13, typeA='Car', atomB=<openbabel.pybel.Atom object at 0x7f908da34c40>, idxB=28, typeB='Car', distance=3.9934473829011443),\n",
       " hydroph_interaction(atomA=<openbabel.pybel.Atom object at 0x7f908da3f850>, idxA=13, typeA='Car', atomB=<openbabel.pybel.Atom object at 0x7f908da34d30>, idxB=29, typeB='Car', distance=3.613849609488478),\n",
       " hydroph_interaction(atomA=<openbabel.pybel.Atom object at 0x7f908da415e0>, idxA=16, typeA='Car', atomB=<openbabel.pybel.Atom object at 0x7f908da342e0>, idxB=24, typeB='Car', distance=3.6509360443590353),\n",
       " hydroph_interaction(atomA=<openbabel.pybel.Atom object at 0x7f908da415e0>, idxA=16, typeA='Car', atomB=<openbabel.pybel.Atom object at 0x7f908da34d30>, idxB=29, typeB='Car', distance=3.724267176237495),\n",
       " hydroph_interaction(atomA=<openbabel.pybel.Atom object at 0x7f908da41ca0>, idxA=17, typeA='Car', atomB=<openbabel.pybel.Atom object at 0x7f908da342e0>, idxB=24, typeB='Car', distance=3.8194599094636423),\n",
       " hydroph_interaction(atomA=<openbabel.pybel.Atom object at 0x7f908da41ca0>, idxA=17, typeA='Car', atomB=<openbabel.pybel.Atom object at 0x7f908da34c40>, idxB=28, typeB='Car', distance=3.4630808538063325),\n",
       " hydroph_interaction(atomA=<openbabel.pybel.Atom object at 0x7f908da41ca0>, idxA=17, typeA='Car', atomB=<openbabel.pybel.Atom object at 0x7f908da34d30>, idxB=29, typeB='Car', distance=3.8180416446131167),\n",
       " hydroph_interaction(atomA=<openbabel.pybel.Atom object at 0x7f908da35be0>, idxA=30, typeA='Car', atomB=<openbabel.pybel.Atom object at 0x7f908da34b50>, idxB=34, typeB='Car', distance=3.9495580765447666)]"
      ]
     },
     "execution_count": 7,
     "metadata": {},
     "output_type": "execute_result"
    }
   ],
   "source": [
    "dimer.calculate_hydrophobic_interactions()"
   ]
  },
  {
   "cell_type": "code",
   "execution_count": null,
   "metadata": {},
   "outputs": [],
   "source": []
  }
 ],
 "metadata": {
  "kernelspec": {
   "display_name": "py38contacts",
   "language": "python",
   "name": "py38contacts"
  },
  "language_info": {
   "codemirror_mode": {
    "name": "ipython",
    "version": 3
   },
   "file_extension": ".py",
   "mimetype": "text/x-python",
   "name": "python",
   "nbconvert_exporter": "python",
   "pygments_lexer": "ipython3",
   "version": "3.8.8"
  }
 },
 "nbformat": 4,
 "nbformat_minor": 4
}
