{
 "cells": [
  {
   "cell_type": "code",
   "execution_count": 28,
   "metadata": {},
   "outputs": [],
   "source": [
    "from crystack.interactions import Interactions\n",
    "from crystack import cif2supercell"
   ]
  },
  {
   "cell_type": "code",
   "execution_count": null,
   "metadata": {},
   "outputs": [],
   "source": [
    "crystal_name = \"HEXHEL\"\n",
    "orientations_dict = cif2supercell.run_dimer_generator(\"HEXHEL.cif\", 42, out_mol=10)"
   ]
  },
  {
   "cell_type": "code",
   "execution_count": null,
   "metadata": {},
   "outputs": [],
   "source": [
    "from glob import glob\n",
    "dimer_files = glob('real_dimer*')\n",
    "for f in dimer_files:\n",
    "    print(f)"
   ]
  },
  {
   "cell_type": "code",
   "execution_count": 19,
   "metadata": {},
   "outputs": [
    {
     "name": "stdout",
     "output_type": "stream",
     "text": [
      "real_dimer_1_6.xyz\n",
      "n_atoms(dimer):  84\n",
      "Relevant stack:  5.049617700050831 Type of Int:  T Offset:  2.103094699115978\n",
      "Relevant stack:  5.170783907902386 Type of Int:  P Offset:  3.9033248914955982\n",
      "real_dimer_1_5.xyz\n",
      "n_atoms(dimer):  84\n",
      "Relevant stack:  5.170783907902386 Type of Int:  P Offset:  3.742409190191721\n",
      "Relevant stack:  5.049619853678753 Type of Int:  T Offset:  1.9129525413285764\n",
      "real_dimer_1_4.xyz\n",
      "n_atoms(dimer):  84\n",
      "real_dimer_1_12.xyz\n",
      "n_atoms(dimer):  84\n",
      "Relevant stack:  5.300498768459855 Type of Int:  P Offset:  3.277353207165837\n",
      "real_dimer_1_16.xyz\n",
      "n_atoms(dimer):  84\n",
      "Relevant stack:  5.313490657959435 Type of Int:  T Offset:  3.031780070594228\n",
      "real_dimer_1_0.xyz\n",
      "n_atoms(dimer):  84\n",
      "real_dimer_1_3.xyz\n",
      "n_atoms(dimer):  84\n",
      "Relevant stack:  5.1463301784432325 Type of Int:  T Offset:  1.569535104664119\n",
      "real_dimer_1_9.mol\n",
      "n_atoms(dimer):  84\n",
      "real_dimer_1_22.mol\n",
      "n_atoms(dimer):  84\n",
      "real_dimer_1_18.mol\n",
      "n_atoms(dimer):  84\n",
      "Relevant stack:  5.146737191874301 Type of Int:  T Offset:  1.4274502084901095\n",
      "real_dimer_1_3.mol\n",
      "n_atoms(dimer):  84\n",
      "Relevant stack:  5.1463301784432325 Type of Int:  T Offset:  1.569535104664119\n",
      "real_dimer_1_0.mol\n",
      "n_atoms(dimer):  84\n",
      "real_dimer_1_16.mol\n",
      "n_atoms(dimer):  84\n",
      "Relevant stack:  5.313490657959435 Type of Int:  T Offset:  3.031780070594228\n",
      "real_dimer_1_5.mol\n",
      "n_atoms(dimer):  84\n",
      "Relevant stack:  5.170783907902386 Type of Int:  P Offset:  3.742409190191721\n",
      "Relevant stack:  5.049619853678753 Type of Int:  T Offset:  1.9129525413285764\n",
      "real_dimer_1_12.mol\n",
      "n_atoms(dimer):  84\n",
      "Relevant stack:  5.300498768459855 Type of Int:  P Offset:  3.277353207165837\n",
      "real_dimer_1_4.mol\n",
      "n_atoms(dimer):  84\n",
      "real_dimer_1_6.mol\n",
      "n_atoms(dimer):  84\n",
      "Relevant stack:  5.049617700050831 Type of Int:  T Offset:  2.103094699115978\n",
      "Relevant stack:  5.170783907902386 Type of Int:  P Offset:  3.9033248914955982\n",
      "real_dimer_1_18.xyz\n",
      "n_atoms(dimer):  84\n",
      "Relevant stack:  5.146737191874301 Type of Int:  T Offset:  1.4274502084901095\n",
      "real_dimer_1_9.xyz\n",
      "n_atoms(dimer):  84\n",
      "real_dimer_1_22.xyz\n",
      "n_atoms(dimer):  84\n"
     ]
    }
   ],
   "source": [
    "\n",
    "pi_stacks = []\n",
    "# with open('dominant_orientations.csv') as csv_file:\n",
    "#     reader = csv.reader(csv_file)\n",
    "#     mydict = dict(reader)\n",
    "    \n",
    "for f in dimer_files: \n",
    "    print(f)\n",
    "    basen = f.split(\".\")[0]\n",
    "    dimer = Interactions(f\"{basen}\")\n",
    "    dimer.make_mol_obj()\n",
    "    pi_stack_dimer = dimer.calculate_pi_stacks()\n",
    "    pi_stacks.append(pi_stack_dimer)"
   ]
  },
  {
   "cell_type": "code",
   "execution_count": 20,
   "metadata": {},
   "outputs": [],
   "source": [
    "\n",
    "# dimer = Interactions(f\"{filepath}\")\n",
    "# dimer.basen\n",
    "# dimer.interacting_mols\n",
    "# dimer.make_mol_obj()\n",
    "#pi_stacks = dimer.calculate_pi_stacks()\n",
    "#dimer.calculate_short_contacts(vdwextra=0.5)\n",
    "#dimer.calculate_short_contacts(vdwextra=0.5)\n",
    "#dimer.calculate_hydrophobic_interactions()"
   ]
  },
  {
   "cell_type": "code",
   "execution_count": 21,
   "metadata": {},
   "outputs": [],
   "source": [
    "# #! not in use\n",
    "# import matplotlib.pyplot as plt\n",
    "\n",
    "# n_hydro = len(dimer.hydro_stacks)\n",
    "# n_pi = len(dimer.pi_stacks)\n",
    "# n_short = len(dimer.short_stacks)\n",
    "# #! not in use\n",
    "# hydro_dists = []\n",
    "# for i, n in enumerate(dimer.hydro_stacks):\n",
    "#     print(n.distance)\n",
    "#     hydro_dists.append(n.distance)"
   ]
  },
  {
   "cell_type": "code",
   "execution_count": 22,
   "metadata": {},
   "outputs": [],
   "source": [
    "# #! not in use\n",
    "# pi_dists = []\n",
    "# for i, sublist in enumerate(pi_stacks):\n",
    "#     for i, n in enumerate(sublist):\n",
    "#         print(n.distance, n.angle, n.type)\n",
    "#         pi_dists.append(n.distance)\n",
    "\n",
    "# pi_dists"
   ]
  },
  {
   "cell_type": "code",
   "execution_count": 23,
   "metadata": {},
   "outputs": [
    {
     "name": "stdout",
     "output_type": "stream",
     "text": [
      "5.049617700050831 62.22140117313459 T\n",
      "5.170783907902386 20.39181811723998 P\n",
      "5.170783907902386 20.39181811723998 P\n",
      "5.049619853678753 64.26092895447677 T\n",
      "5.300498768459855 22.51957790045366 P\n",
      "5.313490657959435 61.827212722242585 T\n",
      "5.1463301784432325 66.68907132998132 T\n",
      "5.146737191874301 65.31191704050177 T\n",
      "5.1463301784432325 66.68907132998132 T\n",
      "5.313490657959435 61.827212722242585 T\n",
      "5.170783907902386 20.39181811723998 P\n",
      "5.049619853678753 64.26092895447677 T\n",
      "5.300498768459855 22.51957790045366 P\n",
      "5.049617700050831 62.22140117313459 T\n",
      "5.170783907902386 20.39181811723998 P\n",
      "5.146737191874301 65.31191704050177 T\n"
     ]
    }
   ],
   "source": [
    "pi_dists = []\n",
    "pi_angles = []\n",
    "pi_types = []\n",
    "for i, sublist in enumerate(pi_stacks):\n",
    "    for i, n in enumerate(sublist):\n",
    "        print(n.distance, n.angle, n.type)\n",
    "        pi_dists.append(n.distance)\n",
    "        pi_angles.append(n.angle)\n",
    "        pi_types.append(n.type)"
   ]
  },
  {
   "cell_type": "code",
   "execution_count": 24,
   "metadata": {},
   "outputs": [
    {
     "name": "stdout",
     "output_type": "stream",
     "text": [
      "16\n"
     ]
    }
   ],
   "source": [
    "print(len(pi_dists))"
   ]
  },
  {
   "cell_type": "code",
   "execution_count": 25,
   "metadata": {},
   "outputs": [
    {
     "data": {
      "text/plain": [
       "(array([4., 0., 0., 4., 4., 0., 0., 0., 0., 4.]),\n",
       " array([5.0496177 , 5.076005  , 5.10239229, 5.12877959, 5.15516688,\n",
       "        5.18155418, 5.20794147, 5.23432877, 5.26071607, 5.28710336,\n",
       "        5.31349066]),\n",
       " <BarContainer object of 10 artists>)"
      ]
     },
     "execution_count": 25,
     "metadata": {},
     "output_type": "execute_result"
    },
    {
     "data": {
      "image/png": "[encoded data removed]",
      "text/plain": [
       "<Figure size 432x288 with 1 Axes>"
      ]
     },
     "metadata": {
      "needs_background": "light"
     },
     "output_type": "display_data"
    }
   ],
   "source": [
    "import matplotlib.pyplot as plt\n",
    "plt.hist(pi_dists)"
   ]
  },
  {
   "cell_type": "code",
   "execution_count": 26,
   "metadata": {},
   "outputs": [
    {
     "data": {
      "text/plain": [
       "<matplotlib.collections.PathCollection at 0x7fd977b97280>"
      ]
     },
     "execution_count": 26,
     "metadata": {},
     "output_type": "execute_result"
    },
    {
     "data": {
      "image/png": "[encoded data removed]",
      "text/plain": [
       "<Figure size 432x288 with 1 Axes>"
      ]
     },
     "metadata": {
      "needs_background": "light"
     },
     "output_type": "display_data"
    }
   ],
   "source": [
    "plt.scatter(pi_dists, pi_angles) #c=pi_types)"
   ]
  },
  {
   "cell_type": "code",
   "execution_count": 27,
   "metadata": {},
   "outputs": [
    {
     "name": "stderr",
     "output_type": "stream",
     "text": [
      "/Users/julia/anaconda/envs/py38contacts/lib/python3.8/site-packages/seaborn/_decorators.py:36: FutureWarning: Pass the following variables as keyword args: x, y. From version 0.12, the only valid positional argument will be `data`, and passing other arguments without an explicit keyword will result in an error or misinterpretation.\n",
      "  warnings.warn(\n"
     ]
    },
    {
     "data": {
      "image/png": "[encoded data removed]",
      "text/plain": [
       "<Figure size 432x288 with 1 Axes>"
      ]
     },
     "metadata": {
      "needs_background": "light"
     },
     "output_type": "display_data"
    }
   ],
   "source": [
    "import seaborn as sns \n",
    "\n",
    "sns.scatterplot(pi_dists, pi_angles, hue=pi_types)\n",
    "plt.xlabel(\"π-π stack distance (Å)\", fontsize=14)\n",
    "plt.ylabel(\"Angle (degrees)\", fontsize=14)\n",
    "plt.title(f\"{crystal_name}\")\n",
    "plt.savefig(f\"Pi_stacks_{crystal_name}.png\", dpi=100)"
   ]
  },
  {
   "cell_type": "code",
   "execution_count": null,
   "metadata": {},
   "outputs": [],
   "source": []
  }
 ],
 "metadata": {
  "kernelspec": {
   "display_name": "py38contacts",
   "language": "python",
   "name": "py38contacts"
  },
  "language_info": {
   "codemirror_mode": {
    "name": "ipython",
    "version": 3
   },
   "file_extension": ".py",
   "mimetype": "text/x-python",
   "name": "python",
   "nbconvert_exporter": "python",
   "pygments_lexer": "ipython3",
   "version": "3.8.8"
  }
 },
 "nbformat": 4,
 "nbformat_minor": 4
}
